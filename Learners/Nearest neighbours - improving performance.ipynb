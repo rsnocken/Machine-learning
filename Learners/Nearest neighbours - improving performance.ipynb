{
 "cells": [
  {
   "cell_type": "markdown",
   "metadata": {},
   "source": [
    "## Abstract:\n",
    "\n",
    "In this notebook I demonstrate some methods for improving the performance of nearest neighbour algorithms. This notebook serves as a smorgasbord of tactics to use to try and improve the results of nearest neighbour algorithms. \n",
    "\n",
    "### Contents:\n",
    "\n",
    "- [Introduction and benchmark](#Introduction-and-benchmark)\n",
    "- [Parameters: n_neighbors](#Parameters:-n_neighbors)\n",
    "- [Parameters: metric and p](#Parameters:-metric-and-p)\n",
    "- [Parameters: weights](#Parameters:-weights)\n",
    "- [Basic scaling](#Basic-scaling)\n",
    "- [Feature importance scaling](#Feature-importance-scaling)\n",
    "- [ECDF scaling](#ECDF-scaling)\n",
    "- [Feature selection](#Feature-selection)\n",
    "- [Dimensionality reduction](#Dimensionality-reduction)\n",
    "- [Advanced: learning metrics](#Advanced:-learning-metrics)\n",
    "- [Summary](#Summary)"
   ]
  },
  {
   "cell_type": "markdown",
   "metadata": {},
   "source": [
    "# Introduction and benchmark\n",
    "\n",
    "A nearest neighbour algorithm works by finding samples in the training data that are similar to a query. The easiest interpretation of this is to think of the feature space as Euclidean space and say that two data points are similar if they are close together. In this section we will run a default nearest neigbours algorithm on a sample dataset and look at the options available."
   ]
  },
  {
   "cell_type": "code",
   "execution_count": 2,
   "metadata": {
    "collapsed": true
   },
   "outputs": [],
   "source": [
    "# Standard imports\n",
    "\n",
    "import pandas as pd\n",
    "import numpy as np\n",
    "import matplotlib.pyplot as plt\n",
    "%matplotlib inline"
   ]
  },
  {
   "cell_type": "markdown",
   "metadata": {},
   "source": [
    "In this dataset the target variable is the output from a power station. "
   ]
  },
  {
   "cell_type": "code",
   "execution_count": 3,
   "metadata": {
    "collapsed": true
   },
   "outputs": [],
   "source": [
    "data = pd.read_excel(\"../../raw_data/Power.xlsx\")"
   ]
  },
  {
   "cell_type": "code",
   "execution_count": 4,
   "metadata": {
    "collapsed": false
   },
   "outputs": [
    {
     "data": {
      "text/plain": [
       "(9568, 5)"
      ]
     },
     "execution_count": 4,
     "metadata": {},
     "output_type": "execute_result"
    }
   ],
   "source": [
    "data.shape"
   ]
  },
  {
   "cell_type": "code",
   "execution_count": 5,
   "metadata": {
    "collapsed": false
   },
   "outputs": [
    {
     "data": {
      "text/html": [
       "<div>\n",
       "<table border=\"1\" class=\"dataframe\">\n",
       "  <thead>\n",
       "    <tr style=\"text-align: right;\">\n",
       "      <th></th>\n",
       "      <th>AT</th>\n",
       "      <th>V</th>\n",
       "      <th>AP</th>\n",
       "      <th>RH</th>\n",
       "      <th>PE</th>\n",
       "    </tr>\n",
       "  </thead>\n",
       "  <tbody>\n",
       "    <tr>\n",
       "      <th>0</th>\n",
       "      <td>14.96</td>\n",
       "      <td>41.76</td>\n",
       "      <td>1024.07</td>\n",
       "      <td>73.17</td>\n",
       "      <td>463.26</td>\n",
       "    </tr>\n",
       "    <tr>\n",
       "      <th>1</th>\n",
       "      <td>25.18</td>\n",
       "      <td>62.96</td>\n",
       "      <td>1020.04</td>\n",
       "      <td>59.08</td>\n",
       "      <td>444.37</td>\n",
       "    </tr>\n",
       "    <tr>\n",
       "      <th>2</th>\n",
       "      <td>5.11</td>\n",
       "      <td>39.40</td>\n",
       "      <td>1012.16</td>\n",
       "      <td>92.14</td>\n",
       "      <td>488.56</td>\n",
       "    </tr>\n",
       "    <tr>\n",
       "      <th>3</th>\n",
       "      <td>20.86</td>\n",
       "      <td>57.32</td>\n",
       "      <td>1010.24</td>\n",
       "      <td>76.64</td>\n",
       "      <td>446.48</td>\n",
       "    </tr>\n",
       "    <tr>\n",
       "      <th>4</th>\n",
       "      <td>10.82</td>\n",
       "      <td>37.50</td>\n",
       "      <td>1009.23</td>\n",
       "      <td>96.62</td>\n",
       "      <td>473.90</td>\n",
       "    </tr>\n",
       "    <tr>\n",
       "      <th>5</th>\n",
       "      <td>26.27</td>\n",
       "      <td>59.44</td>\n",
       "      <td>1012.23</td>\n",
       "      <td>58.77</td>\n",
       "      <td>443.67</td>\n",
       "    </tr>\n",
       "    <tr>\n",
       "      <th>6</th>\n",
       "      <td>15.89</td>\n",
       "      <td>43.96</td>\n",
       "      <td>1014.02</td>\n",
       "      <td>75.24</td>\n",
       "      <td>467.35</td>\n",
       "    </tr>\n",
       "    <tr>\n",
       "      <th>7</th>\n",
       "      <td>9.48</td>\n",
       "      <td>44.71</td>\n",
       "      <td>1019.12</td>\n",
       "      <td>66.43</td>\n",
       "      <td>478.42</td>\n",
       "    </tr>\n",
       "    <tr>\n",
       "      <th>8</th>\n",
       "      <td>14.64</td>\n",
       "      <td>45.00</td>\n",
       "      <td>1021.78</td>\n",
       "      <td>41.25</td>\n",
       "      <td>475.98</td>\n",
       "    </tr>\n",
       "    <tr>\n",
       "      <th>9</th>\n",
       "      <td>11.74</td>\n",
       "      <td>43.56</td>\n",
       "      <td>1015.14</td>\n",
       "      <td>70.72</td>\n",
       "      <td>477.50</td>\n",
       "    </tr>\n",
       "  </tbody>\n",
       "</table>\n",
       "</div>"
      ],
      "text/plain": [
       "      AT      V       AP     RH      PE\n",
       "0  14.96  41.76  1024.07  73.17  463.26\n",
       "1  25.18  62.96  1020.04  59.08  444.37\n",
       "2   5.11  39.40  1012.16  92.14  488.56\n",
       "3  20.86  57.32  1010.24  76.64  446.48\n",
       "4  10.82  37.50  1009.23  96.62  473.90\n",
       "5  26.27  59.44  1012.23  58.77  443.67\n",
       "6  15.89  43.96  1014.02  75.24  467.35\n",
       "7   9.48  44.71  1019.12  66.43  478.42\n",
       "8  14.64  45.00  1021.78  41.25  475.98\n",
       "9  11.74  43.56  1015.14  70.72  477.50"
      ]
     },
     "execution_count": 5,
     "metadata": {},
     "output_type": "execute_result"
    }
   ],
   "source": [
    "data.head(n = 10)"
   ]
  },
  {
   "cell_type": "markdown",
   "metadata": {},
   "source": [
    "Briefly, the features are Atmospheric Temperature (AT), Exhaust Vacuum (V), Atmospheric pressure (AP) and Relative Humidity (RH), respectively. The target variable is the electrical energy output (PE). The dataset can be found at eh UCI machine learning repository: https://archive.ics.uci.edu/ml/datasets/Combined+Cycle+Power+Plant"
   ]
  },
  {
   "cell_type": "markdown",
   "metadata": {},
   "source": [
    "First we split the data into features and the target and split the data into training and validation set."
   ]
  },
  {
   "cell_type": "code",
   "execution_count": 6,
   "metadata": {
    "collapsed": true
   },
   "outputs": [],
   "source": [
    "X = data.drop('PE', axis = 1)\n",
    "y = data.PE"
   ]
  },
  {
   "cell_type": "code",
   "execution_count": 7,
   "metadata": {
    "collapsed": false
   },
   "outputs": [],
   "source": [
    "from sklearn.model_selection import train_test_split\n",
    "\n",
    "X_train, X_val, y_train, y_val = train_test_split(X, y, test_size = 0.15, random_state = 1)"
   ]
  },
  {
   "cell_type": "markdown",
   "metadata": {},
   "source": [
    "Let's take a look a quick at the options available in sci-kit learn."
   ]
  },
  {
   "cell_type": "code",
   "execution_count": 8,
   "metadata": {
    "collapsed": false
   },
   "outputs": [
    {
     "data": {
      "text/plain": [
       "KNeighborsRegressor(algorithm='auto', leaf_size=30, metric='minkowski',\n",
       "          metric_params=None, n_jobs=1, n_neighbors=5, p=2,\n",
       "          weights='uniform')"
      ]
     },
     "execution_count": 8,
     "metadata": {},
     "output_type": "execute_result"
    }
   ],
   "source": [
    "from sklearn.neighbors import KNeighborsRegressor as KNR\n",
    "model = KNR()\n",
    "model"
   ]
  },
  {
   "cell_type": "markdown",
   "metadata": {},
   "source": [
    "The parameters: <i>algorithm</i> and <i>leaf_size</i> affect how the algorithm learns and produces predictions. There is a trade-off between finding the exact k-nearest neighbours and computational complexity. I am not going to explore these options any further here. You can find out more details by checking out the sklearn documentation. \n",
    "\n",
    "<i> n_jobs </i> controls parallel computing, by setting it to -1 the algorithm will automatically detect and use the maximum number of threads available. \n",
    "\n",
    "The remaining options truly affect the the behaviour of the algorithm and should be considered carefully. I the following sections I will explore these options and the work we can do to improve our algorithm's results. First let's get a benchmark result using all the default options.\n",
    "\n"
   ]
  },
  {
   "cell_type": "code",
   "execution_count": 9,
   "metadata": {
    "collapsed": false
   },
   "outputs": [],
   "source": [
    "model.fit(X_train, y_train)\n",
    "y_pred = model.predict(X_val)"
   ]
  },
  {
   "cell_type": "markdown",
   "metadata": {},
   "source": [
    "For this dataset I will use root mean squared error to measure performance."
   ]
  },
  {
   "cell_type": "code",
   "execution_count": 10,
   "metadata": {
    "collapsed": true
   },
   "outputs": [],
   "source": [
    "from sklearn.metrics import mean_squared_error as mse\n",
    "\n",
    "def RMSE(y_true, y_pred):\n",
    "    return np.sqrt(mse(y_true, y_pred))"
   ]
  },
  {
   "cell_type": "code",
   "execution_count": 11,
   "metadata": {
    "collapsed": false
   },
   "outputs": [
    {
     "data": {
      "text/plain": [
       "3.7972230907015603"
      ]
     },
     "execution_count": 11,
     "metadata": {},
     "output_type": "execute_result"
    }
   ],
   "source": [
    "benchmark = RMSE(y_val, y_pred)\n",
    "benchmark"
   ]
  },
  {
   "cell_type": "markdown",
   "metadata": {
    "collapsed": false
   },
   "source": [
    "# Parameters: n_neighbors"
   ]
  },
  {
   "cell_type": "markdown",
   "metadata": {
    "collapsed": false
   },
   "source": [
    "The <i>n_neighbors</i> parameter decides how many neighbours are used. Once the k-nearest neighbours are located by the algorithm a prediction is returned by averaging the target for those neighbours. The numbers of neighbours used is essentially a trade off between bias and variance (as is many decisions we make!). For example, if we set n_neighbors = 1 we get a very flexible algorithm - too flexible in most cases - which means the variance is too high. On the other hand if we set n_neighbors very high we might as well take the global average of all the points. In this case the algorithm is too rigid; in other words biased.\n",
    "\n",
    "While looking at the dataset and experience can give some guidance for suitable values of n_neighbors. However, it is easy enough to check a wide range of values."
   ]
  },
  {
   "cell_type": "code",
   "execution_count": 17,
   "metadata": {
    "collapsed": false
   },
   "outputs": [
    {
     "data": {
      "text/plain": [
       "[<matplotlib.lines.Line2D at 0x113fc4350>]"
      ]
     },
     "execution_count": 17,
     "metadata": {},
     "output_type": "execute_result"
    },
    {
     "data": {
      "image/png": "[encoded data removed]",
      "text/plain": [
       "<matplotlib.figure.Figure at 0x11a8fd5d0>"
      ]
     },
     "metadata": {},
     "output_type": "display_data"
    }
   ],
   "source": [
    "values = map(int, np.linspace(1, 50, 50))\n",
    "\n",
    "train_results, val_results = [], []\n",
    "\n",
    "for k in values:\n",
    "    model = KNR(n_neighbors = k)\n",
    "    model.fit(X_train, y_train)\n",
    "    p_train = model.predict(X_train)\n",
    "    p_val = model.predict(X_val)\n",
    "    train_results.append( RMSE(y_train, p_train) )\n",
    "    val_results.append( RMSE(y_val, p_val) )\n",
    "\n",
    "   \n",
    "plt.plot(train_results)\n",
    "plt.plot(val_results)"
   ]
  },
  {
   "cell_type": "markdown",
   "metadata": {
    "collapsed": true
   },
   "source": [
    "The plot is very typical for k-nearest neighbours. Of course, the training error is zero for n_neighbors = 1 and increases the more neighbours you use. For the test set the error first decreases and then increases gently."
   ]
  },
  {
   "cell_type": "code",
   "execution_count": 108,
   "metadata": {
    "collapsed": false,
    "scrolled": true
   },
   "outputs": [
    {
     "data": {
      "text/plain": [
       "(3.7644036957452367, 2)"
      ]
     },
     "execution_count": 108,
     "metadata": {},
     "output_type": "execute_result"
    }
   ],
   "source": [
    "min(val_results), np.argmin(val_results)+1 # the list is zero indexed."
   ]
  },
  {
   "cell_type": "markdown",
   "metadata": {
    "collapsed": false
   },
   "source": [
    "We have reduced the error just a tiny bit (less than 1%) by using 6 neighbours."
   ]
  },
  {
   "cell_type": "markdown",
   "metadata": {
    "collapsed": false
   },
   "source": [
    "# Parameters: metric and p"
   ]
  },
  {
   "cell_type": "markdown",
   "metadata": {},
   "source": [
    "The parameter <i>metric</i> determines the notion of distance in the sample space. It could be argued that this is the most important part of the algorithm as it determines which points are the k-nearest in the training data!"
   ]
  },
  {
   "cell_type": "markdown",
   "metadata": {},
   "source": [
    "There are several distance functions built into sklearn's kNN algorithm and the user is welcome to define their own functions. In particular, there is a large number of distances for vectors of binary variables. Check out:\n",
    "\n",
    "http://scikit-learn.org/stable/modules/generated/sklearn.neighbors.DistanceMetric.html\n",
    "\n",
    "for supplied options. I am going to stick with the default metric for this example: the Minkowski metric. The parameter <i>p</i> is a special parameter that feeds into the Minkowski metric. If any other option is selected, then <i>p</i> does not do anything. Note: when in use, p must be greater than or equal to 1."
   ]
  },
  {
   "cell_type": "code",
   "execution_count": 109,
   "metadata": {
    "collapsed": false
   },
   "outputs": [
    {
     "data": {
      "text/plain": [
       "[<matplotlib.lines.Line2D at 0x11c5c3050>]"
      ]
     },
     "execution_count": 109,
     "metadata": {},
     "output_type": "execute_result"
    },
    {
     "data": {
      "image/png": "[encoded data removed]",
      "text/plain": [
       "<matplotlib.figure.Figure at 0x11c5c35d0>"
      ]
     },
     "metadata": {},
     "output_type": "display_data"
    }
   ],
   "source": [
    "values = np.linspace(1, 5, 41)\n",
    "\n",
    "train_results, val_results = [], []\n",
    "\n",
    "for p in values:\n",
    "    model = KNR(p = p)\n",
    "    model.fit(X_train, y_train)\n",
    "    p_train = model.predict(X_train)\n",
    "    p_val = model.predict(X_val)\n",
    "    train_results.append( RMSE(y_train, p_train) )\n",
    "    val_results.append( RMSE(y_val, p_val) )\n",
    "\n",
    "    \n",
    "plt.plot(values, train_results)\n",
    "plt.plot(values, val_results)"
   ]
  },
  {
   "cell_type": "markdown",
   "metadata": {},
   "source": [
    "In this case $p = 1$ gives the best results for train and test. It is difficult to know what value of $p$ will work ahead of time. Again, I suggest a search as above to find the best value."
   ]
  },
  {
   "cell_type": "code",
   "execution_count": 110,
   "metadata": {
    "collapsed": false
   },
   "outputs": [
    {
     "data": {
      "text/plain": [
       "(3.6132892175079676, 1)"
      ]
     },
     "execution_count": 110,
     "metadata": {},
     "output_type": "execute_result"
    }
   ],
   "source": [
    "min(val_results), np.argmin(val_results)+1 # the list is zero indexed."
   ]
  },
  {
   "cell_type": "markdown",
   "metadata": {},
   "source": [
    "A more significant improvement this time.\n",
    "\n",
    "Of course, we have used the default number of neighbours here. To get the best possible results we must tune both parameters - preferably at the same time. In general, the hyperparameters of machine learning algorithms are not independent. However, we will do this after we have explored the final main parameter of interest"
   ]
  },
  {
   "cell_type": "markdown",
   "metadata": {},
   "source": [
    "# Parameters: weights"
   ]
  },
  {
   "cell_type": "markdown",
   "metadata": {},
   "source": [
    "The k-nearest neighbour algorithm finds the k-nearest neighbours and then takes the average to make a prediction. The weights parameter allows us to control how the average is taken.\n",
    "\n",
    "The sklearn has two inbuilt options <i>uniform</i> and <i>distance</i>. The uniform option takes the (arithmetic) mean of the k-nearest neighbours with our any consideration for the distance from the query point. Intuitively, this does not seem right, somehow, points nearer to the query point should influence the result more, right? Well, that's exactly what this parameter allows us to control. The inbuilt option <i>distance</i> weights the k-nearest neighbours by the inverse of their distance from the query point. For me, this feels better. However, the weighted stronly favours very close points and assigns them a lot of weight. "
   ]
  },
  {
   "cell_type": "code",
   "execution_count": 111,
   "metadata": {
    "collapsed": true
   },
   "outputs": [],
   "source": [
    "xs = np.linspace(0, 10, 100)\n",
    "ys = 5 * np.ones(100) # the 5 here does not affect the weights - it is for the graph only\n",
    "zs = 1 / xs"
   ]
  },
  {
   "cell_type": "code",
   "execution_count": 1,
   "metadata": {
    "collapsed": false
   },
   "outputs": [
    {
     "ename": "NameError",
     "evalue": "name 'plt' is not defined",
     "output_type": "error",
     "traceback": [
      "\u001b[0;31m---------------------------------------------------------------------------\u001b[0m",
      "\u001b[0;31mNameError\u001b[0m                                 Traceback (most recent call last)",
      "\u001b[0;32m<ipython-input-1-e6d6432a1c76>\u001b[0m in \u001b[0;36m<module>\u001b[0;34m()\u001b[0m\n\u001b[0;32m----> 1\u001b[0;31m \u001b[0;32mwith\u001b[0m \u001b[0mplt\u001b[0m\u001b[0;34m.\u001b[0m\u001b[0mstyle\u001b[0m\u001b[0;34m.\u001b[0m\u001b[0mcontext\u001b[0m\u001b[0;34m(\u001b[0m\u001b[0;34m'fivethirtyeight'\u001b[0m\u001b[0;34m)\u001b[0m\u001b[0;34m:\u001b[0m\u001b[0;34m\u001b[0m\u001b[0m\n\u001b[0m\u001b[1;32m      2\u001b[0m     \u001b[0mplt\u001b[0m\u001b[0;34m.\u001b[0m\u001b[0mplot\u001b[0m\u001b[0;34m(\u001b[0m\u001b[0mxs\u001b[0m\u001b[0;34m,\u001b[0m \u001b[0mys\u001b[0m\u001b[0;34m)\u001b[0m\u001b[0;34m;\u001b[0m\u001b[0;34m\u001b[0m\u001b[0m\n\u001b[1;32m      3\u001b[0m     \u001b[0mplt\u001b[0m\u001b[0;34m.\u001b[0m\u001b[0mplot\u001b[0m\u001b[0;34m(\u001b[0m\u001b[0mxs\u001b[0m\u001b[0;34m,\u001b[0m \u001b[0mzs\u001b[0m\u001b[0;34m)\u001b[0m\u001b[0;34m;\u001b[0m\u001b[0;34m\u001b[0m\u001b[0m\n",
      "\u001b[0;31mNameError\u001b[0m: name 'plt' is not defined"
     ]
    }
   ],
   "source": [
    "with plt.style.context('fivethirtyeight'):\n",
    "    plt.plot(xs, ys);\n",
    "    plt.plot(xs, zs);"
   ]
  },
  {
   "cell_type": "markdown",
   "metadata": {},
   "source": [
    "The graphs illustrates the way the weightings work. In particular, anything with a distance less than 1 from from the qery point will contribute a lot more to the average than something a little over 2 away. I think this is a little extreme so I often work with some other weightings.\n",
    "\n",
    "The following function gives a different weighting. Of course, closer points are still given a higher weighting but the initial penality for being a 'little bit' away is less severe. However, it heavily penalises points that are a 'little bit more' away."
   ]
  },
  {
   "cell_type": "code",
   "execution_count": 113,
   "metadata": {
    "collapsed": true
   },
   "outputs": [],
   "source": [
    "def gaussian(x):\n",
    "    return 10 * np.exp(-0.15 * np.power(x, 2)) #the 10 here doesn't affect the weights - it is for the graph only"
   ]
  },
  {
   "cell_type": "code",
   "execution_count": 114,
   "metadata": {
    "collapsed": false
   },
   "outputs": [
    {
     "data": {
      "text/plain": [
       "[<matplotlib.lines.Line2D at 0x11c38e610>]"
      ]
     },
     "execution_count": 114,
     "metadata": {},
     "output_type": "execute_result"
    },
    {
     "data": {
      "image/png": "[encoded data removed]",
      "text/plain": [
       "<matplotlib.figure.Figure at 0x117ec4750>"
      ]
     },
     "metadata": {},
     "output_type": "display_data"
    }
   ],
   "source": [
    "xs = np.linspace(0, 10, 100)\n",
    "ws = gaussian(xs)\n",
    "\n",
    "plt.plot(xs, ys);\n",
    "plt.plot(xs, zs);\n",
    "plt.plot(xs, ws)"
   ]
  },
  {
   "cell_type": "markdown",
   "metadata": {},
   "source": [
    "I think that the plot tells the story nicely."
   ]
  },
  {
   "cell_type": "code",
   "execution_count": 115,
   "metadata": {
    "collapsed": false
   },
   "outputs": [
    {
     "name": "stdout",
     "output_type": "stream",
     "text": [
      "['uniform', 'distance', <function gaussian at 0x11b842398>]\n",
      "[3.1964919177015192, 0.0, 2.7331368940580565]\n",
      "[3.7972230907015603, 3.5812410425188439, 3.6325734089016892]\n"
     ]
    }
   ],
   "source": [
    "values = ['uniform', 'distance', gaussian]\n",
    "\n",
    "train_results, val_results = [], []\n",
    "\n",
    "for value in values:\n",
    "    model = KNR(weights = value)\n",
    "    model.fit(X_train, y_train)\n",
    "    p_train = model.predict(X_train)\n",
    "    p_val = model.predict(X_val)\n",
    "    train_results.append( RMSE(y_train, p_train) )\n",
    "    val_results.append( RMSE(y_val, p_val) )\n",
    "\n",
    "print values\n",
    "print train_results\n",
    "print val_results"
   ]
  },
  {
   "cell_type": "markdown",
   "metadata": {},
   "source": [
    "The distance options comes out on top with the home-made gaussian in a close second. Uniform performs much worse. In my experience distance usually out performs uniform, but - importantly - NOT always."
   ]
  },
  {
   "cell_type": "markdown",
   "metadata": {},
   "source": [
    "Now we turn to tuning n_neighbours, p and weights simultaneously. I will set up an evaluate function that includes a gridsearch for the best parameter using cross validation within the training data. In the following sections we will be preprocessing the dataset to make further improvement."
   ]
  },
  {
   "cell_type": "code",
   "execution_count": 116,
   "metadata": {
    "collapsed": false
   },
   "outputs": [],
   "source": [
    "from sklearn.model_selection import GridSearchCV\n",
    "\n",
    "def evaluate( X_train, X_val, y_train, y_val ):\n",
    "    param_grid = {'weights': ['uniform', 'distance'], \n",
    "              'n_neighbors': [4, 5, 6, 7, 8, 9, 10], \n",
    "              'p':[1, 1.3, 1.6, 2]}\n",
    "    clf = GridSearchCV(KNR(), param_grid, scoring = 'neg_mean_squared_error', cv = 5, verbose = 0, n_jobs = -1)\n",
    "    clf.fit(X_train, y_train)\n",
    "    print clf.best_estimator_\n",
    "    p_val = clf.predict(X_val)\n",
    "    print \"RMSE: \", RMSE(y_val, p_val)\n"
   ]
  },
  {
   "cell_type": "code",
   "execution_count": 117,
   "metadata": {
    "collapsed": false
   },
   "outputs": [
    {
     "name": "stdout",
     "output_type": "stream",
     "text": [
      "KNeighborsRegressor(algorithm='auto', leaf_size=30, metric='minkowski',\n",
      "          metric_params=None, n_jobs=1, n_neighbors=8, p=1,\n",
      "          weights='distance')\n",
      "RMSE:  3.39438674849\n"
     ]
    }
   ],
   "source": [
    "evaluate(X_train, X_val, y_train, y_val)"
   ]
  },
  {
   "cell_type": "markdown",
   "metadata": {},
   "source": [
    "This is our best result so far. We have made ~10% improvement on using the default parameters."
   ]
  },
  {
   "cell_type": "markdown",
   "metadata": {
    "collapsed": false
   },
   "source": [
    "# Basic scaling"
   ]
  },
  {
   "cell_type": "markdown",
   "metadata": {
    "collapsed": false
   },
   "source": [
    "Scaling the data is key for nearest neighbours algorithms. Let's take a look at the dataset again to see why."
   ]
  },
  {
   "cell_type": "code",
   "execution_count": 118,
   "metadata": {
    "collapsed": false
   },
   "outputs": [
    {
     "data": {
      "text/html": [
       "<div>\n",
       "<table border=\"1\" class=\"dataframe\">\n",
       "  <thead>\n",
       "    <tr style=\"text-align: right;\">\n",
       "      <th></th>\n",
       "      <th>AT</th>\n",
       "      <th>V</th>\n",
       "      <th>AP</th>\n",
       "      <th>RH</th>\n",
       "      <th>PE</th>\n",
       "    </tr>\n",
       "  </thead>\n",
       "  <tbody>\n",
       "    <tr>\n",
       "      <th>0</th>\n",
       "      <td>14.96</td>\n",
       "      <td>41.76</td>\n",
       "      <td>1024.07</td>\n",
       "      <td>73.17</td>\n",
       "      <td>463.26</td>\n",
       "    </tr>\n",
       "    <tr>\n",
       "      <th>1</th>\n",
       "      <td>25.18</td>\n",
       "      <td>62.96</td>\n",
       "      <td>1020.04</td>\n",
       "      <td>59.08</td>\n",
       "      <td>444.37</td>\n",
       "    </tr>\n",
       "    <tr>\n",
       "      <th>2</th>\n",
       "      <td>5.11</td>\n",
       "      <td>39.40</td>\n",
       "      <td>1012.16</td>\n",
       "      <td>92.14</td>\n",
       "      <td>488.56</td>\n",
       "    </tr>\n",
       "    <tr>\n",
       "      <th>3</th>\n",
       "      <td>20.86</td>\n",
       "      <td>57.32</td>\n",
       "      <td>1010.24</td>\n",
       "      <td>76.64</td>\n",
       "      <td>446.48</td>\n",
       "    </tr>\n",
       "    <tr>\n",
       "      <th>4</th>\n",
       "      <td>10.82</td>\n",
       "      <td>37.50</td>\n",
       "      <td>1009.23</td>\n",
       "      <td>96.62</td>\n",
       "      <td>473.90</td>\n",
       "    </tr>\n",
       "  </tbody>\n",
       "</table>\n",
       "</div>"
      ],
      "text/plain": [
       "      AT      V       AP     RH      PE\n",
       "0  14.96  41.76  1024.07  73.17  463.26\n",
       "1  25.18  62.96  1020.04  59.08  444.37\n",
       "2   5.11  39.40  1012.16  92.14  488.56\n",
       "3  20.86  57.32  1010.24  76.64  446.48\n",
       "4  10.82  37.50  1009.23  96.62  473.90"
      ]
     },
     "execution_count": 118,
     "metadata": {},
     "output_type": "execute_result"
    }
   ],
   "source": [
    "data.head()"
   ]
  },
  {
   "cell_type": "code",
   "execution_count": 119,
   "metadata": {
    "collapsed": false
   },
   "outputs": [
    {
     "name": "stdout",
     "output_type": "stream",
     "text": [
      "AT 7.45247322961\n",
      "V 12.7078929983\n",
      "AP 5.93878370581\n",
      "RH 14.6002687567\n",
      "PE 17.0669949998\n"
     ]
    }
   ],
   "source": [
    "for col in data.columns:\n",
    "    print col, data[col].std()"
   ]
  },
  {
   "cell_type": "markdown",
   "metadata": {},
   "source": [
    "Despite being on quite different scales (AT values ranges from 0-40 and AP values near to 1000), we see that the standard deviations of the four features are fairly similar. However, the standard deviation of RH is 2-3 times that of AP and AT. For nearest neighbours this is very important! A relative difference in RH will make more of impact to the distance between points than say AT or AP - this is important especially if RH is a weaker feature (we will see later that RH is in fact the weakest feature in this set!) "
   ]
  },
  {
   "cell_type": "markdown",
   "metadata": {},
   "source": [
    "There are several options in sklearn for rescaling the data.\n",
    "\n",
    "1. StandardScaler: rescale data to have mean zero and standard deviation one.\n",
    "2. MinMaxScaler: rescale the data to [0,1]\n",
    "3. RobustScaler: rescale the data based on the median and IQR (or another range of our choicing).\n",
    "3. MaxAbsScaler: scale features based on the largest absolute value.\n",
    "\n",
    "Let's try each one and see if we can make any progress."
   ]
  },
  {
   "cell_type": "code",
   "execution_count": 120,
   "metadata": {
    "collapsed": true
   },
   "outputs": [],
   "source": [
    "from sklearn.preprocessing import StandardScaler, MinMaxScaler, RobustScaler, MaxAbsScaler"
   ]
  },
  {
   "cell_type": "code",
   "execution_count": 121,
   "metadata": {
    "collapsed": false
   },
   "outputs": [],
   "source": [
    "standard = StandardScaler()\n",
    "minmax = MinMaxScaler()\n",
    "robust = RobustScaler(quantile_range=(25.0, 75.))\n",
    "maxabs = MaxAbsScaler()"
   ]
  },
  {
   "cell_type": "code",
   "execution_count": 122,
   "metadata": {
    "collapsed": false
   },
   "outputs": [
    {
     "name": "stdout",
     "output_type": "stream",
     "text": [
      "KNeighborsRegressor(algorithm='auto', leaf_size=30, metric='minkowski',\n",
      "          metric_params=None, n_jobs=1, n_neighbors=6, p=1,\n",
      "          weights='distance')\n",
      "RMSE:  3.27017468236\n"
     ]
    }
   ],
   "source": [
    "standard.fit(X_train)\n",
    "X_train_standard = standard.transform(X_train)\n",
    "X_val_standard= standard.transform(X_val)\n",
    "evaluate(X_train_standard, X_val_standard, y_train, y_val)"
   ]
  },
  {
   "cell_type": "code",
   "execution_count": 123,
   "metadata": {
    "collapsed": false
   },
   "outputs": [
    {
     "name": "stdout",
     "output_type": "stream",
     "text": [
      "KNeighborsRegressor(algorithm='auto', leaf_size=30, metric='minkowski',\n",
      "          metric_params=None, n_jobs=1, n_neighbors=7, p=1,\n",
      "          weights='distance')\n",
      "RMSE:  3.21566876933\n"
     ]
    }
   ],
   "source": [
    "minmax.fit(X_train)\n",
    "X_train_minmax = minmax.transform(X_train)\n",
    "X_val_minmax = minmax.transform(X_val)\n",
    "evaluate(X_train_minmax, X_val_minmax, y_train, y_val)"
   ]
  },
  {
   "cell_type": "code",
   "execution_count": 124,
   "metadata": {
    "collapsed": false
   },
   "outputs": [
    {
     "name": "stdout",
     "output_type": "stream",
     "text": [
      "KNeighborsRegressor(algorithm='auto', leaf_size=30, metric='minkowski',\n",
      "          metric_params=None, n_jobs=1, n_neighbors=7, p=1,\n",
      "          weights='distance')\n",
      "RMSE:  3.37173787903\n"
     ]
    }
   ],
   "source": [
    "robust.fit(X_train)\n",
    "X_train_robust = robust.transform(X_train)\n",
    "X_val_robust = robust.transform(X_val)\n",
    "evaluate(X_train_robust, X_val_robust, y_train, y_val)"
   ]
  },
  {
   "cell_type": "code",
   "execution_count": 125,
   "metadata": {
    "collapsed": false
   },
   "outputs": [
    {
     "name": "stdout",
     "output_type": "stream",
     "text": [
      "KNeighborsRegressor(algorithm='auto', leaf_size=30, metric='minkowski',\n",
      "          metric_params=None, n_jobs=1, n_neighbors=10, p=1,\n",
      "          weights='distance')\n",
      "RMSE:  3.52326245043\n"
     ]
    }
   ],
   "source": [
    "maxabs.fit(X_train)\n",
    "X_train_maxabs = maxabs.transform(X_train)\n",
    "X_val_maxabs = maxabs.transform(X_val)\n",
    "evaluate(X_train_maxabs, X_val_maxabs, y_train, y_val)"
   ]
  },
  {
   "cell_type": "code",
   "execution_count": 126,
   "metadata": {
    "collapsed": false
   },
   "outputs": [
    {
     "name": "stdout",
     "output_type": "stream",
     "text": [
      "Benchmark:  3.39438674849\n",
      "Standard:   3.27017468236\n",
      "MinMax:     3.21566876933\n",
      "Robust:     3.37173787903\n",
      "MaxAbs:     3.52326245043\n"
     ]
    }
   ],
   "source": [
    "print 'Benchmark: ', 3.39438674849\n",
    "print 'Standard:  ', 3.27017468236\n",
    "print 'MinMax:    ', 3.21566876933\n",
    "print 'Robust:    ', 3.37173787903\n",
    "print 'MaxAbs:    ', 3.52326245043"
   ]
  },
  {
   "cell_type": "markdown",
   "metadata": {},
   "source": [
    "StandardScaler and MinMaxScaler make an improvement on the benchmark. On the other hand, MaxAbsScaler actually makes the problem worse in this case! Let's take a look at the data after scaling by MaxAbsScaler:"
   ]
  },
  {
   "cell_type": "code",
   "execution_count": 127,
   "metadata": {
    "collapsed": false
   },
   "outputs": [
    {
     "data": {
      "text/plain": [
       "array([[ 0.6453786 ,  0.71677293,  0.98470918,  0.68350639],\n",
       "       [ 0.35273511,  0.51029917,  0.97921223,  0.83007188],\n",
       "       [ 0.4244139 ,  0.49031388,  0.97456692,  0.77316294],\n",
       "       ..., \n",
       "       [ 0.50094314,  0.48479647,  0.97605729,  0.68500399],\n",
       "       [ 0.61870116,  0.55186366,  0.97958966,  0.50728834],\n",
       "       [ 0.55241175,  0.60924473,  0.97706378,  0.70696885]])"
      ]
     },
     "execution_count": 127,
     "metadata": {},
     "output_type": "execute_result"
    }
   ],
   "source": [
    "X_train_maxabs"
   ]
  },
  {
   "cell_type": "markdown",
   "metadata": {},
   "source": [
    "The problem is the AP column, since all of the data is near 1000, division by 1000 leaves very little variation in the data. The MinMaxScaler 'wins'."
   ]
  },
  {
   "cell_type": "markdown",
   "metadata": {},
   "source": [
    "# Feature importance scaling"
   ]
  },
  {
   "cell_type": "markdown",
   "metadata": {},
   "source": [
    "In the previous section we saw that scaling the features puts them on a level playing field. On the other hand we can now adjust the scaling in order to give more important feature more sway. There are many ways to measure feature importance, each with pro and cons. I am going to try a simple option here: correlation with the target variable. Correlation may not be the best way to measure feature importance. Let me explain with a quick example."
   ]
  },
  {
   "cell_type": "code",
   "execution_count": 128,
   "metadata": {
    "collapsed": false
   },
   "outputs": [
    {
     "data": {
      "text/plain": [
       "[<matplotlib.lines.Line2D at 0x11b7ddc50>]"
      ]
     },
     "execution_count": 128,
     "metadata": {},
     "output_type": "execute_result"
    },
    {
     "data": {
      "image/png": "[encoded data removed]",
      "text/plain": [
       "<matplotlib.figure.Figure at 0x117ee1bd0>"
      ]
     },
     "metadata": {},
     "output_type": "display_data"
    }
   ],
   "source": [
    "xs = np.linspace(-1, 1, 100)\n",
    "ys = xs**2\n",
    "\n",
    "plt.plot(xs, ys)"
   ]
  },
  {
   "cell_type": "code",
   "execution_count": 129,
   "metadata": {
    "collapsed": false
   },
   "outputs": [
    {
     "data": {
      "text/plain": [
       "2.5253386692946614e-16"
      ]
     },
     "execution_count": 129,
     "metadata": {},
     "output_type": "execute_result"
    }
   ],
   "source": [
    "np.corrcoef(xs, ys)[0,1]"
   ]
  },
  {
   "cell_type": "markdown",
   "metadata": {},
   "source": [
    "Here the ys are depend deterministically on the xs, but the correlation is zero (essentially). As such, using correlation only really makes sense if we know our data!"
   ]
  },
  {
   "cell_type": "code",
   "execution_count": 130,
   "metadata": {
    "collapsed": false
   },
   "outputs": [
    {
     "data": {
      "image/png": "[encoded data removed]",
      "text/plain": [
       "<matplotlib.figure.Figure at 0x11845ced0>"
      ]
     },
     "metadata": {},
     "output_type": "display_data"
    }
   ],
   "source": [
    "pd.scatter_matrix(pd.concat([X_train, y_train], axis = 1));"
   ]
  },
  {
   "cell_type": "markdown",
   "metadata": {},
   "source": [
    "This does not look too non-linear. Correlation seems like a reasonable measure to use for these variables. (look at the right-hand column or the bottom row for the plot between each feature and the target variable.)"
   ]
  },
  {
   "cell_type": "code",
   "execution_count": 131,
   "metadata": {
    "collapsed": false
   },
   "outputs": [
    {
     "name": "stdout",
     "output_type": "stream",
     "text": [
      "AT -0.947190696586\n",
      "V -0.870412453491\n",
      "AP 0.515557098731\n",
      "RH 0.386259425484\n"
     ]
    }
   ],
   "source": [
    "for col in X_train.columns:\n",
    "    print col, np.corrcoef(X_train[col], y_train)[1, 0]"
   ]
  },
  {
   "cell_type": "markdown",
   "metadata": {},
   "source": [
    "I am moving forawrd with the MinMaxScaler and now applying the 'correlation scale' on top of that."
   ]
  },
  {
   "cell_type": "code",
   "execution_count": 132,
   "metadata": {
    "collapsed": false
   },
   "outputs": [],
   "source": [
    "X_train_minmax_corr = X_train_minmax.copy()\n",
    "X_train_minmax_corr[:, 0] = 0.95 * X_train_minmax_corr[:, 0]\n",
    "X_train_minmax_corr[:, 1] = 0.87 * X_train_minmax_corr[:, 1]\n",
    "X_train_minmax_corr[:, 2] = 0.52 * X_train_minmax_corr[:, 2]\n",
    "X_train_minmax_corr[:, 3] = 0.39 * X_train_minmax_corr[:, 3]\n",
    "\n",
    "X_val_minmax_corr = X_val_minmax.copy()\n",
    "X_val_minmax_corr[:, 0] = 0.95 * X_val_minmax_corr[:, 0]\n",
    "X_val_minmax_corr[:, 1] = 0.87 * X_val_minmax_corr[:, 1]\n",
    "X_val_minmax_corr[:, 2] = 0.52 * X_val_minmax_corr[:, 2]\n",
    "X_val_minmax_corr[:, 3] = 0.39 * X_val_minmax_corr[:, 3]"
   ]
  },
  {
   "cell_type": "code",
   "execution_count": 133,
   "metadata": {
    "collapsed": false
   },
   "outputs": [
    {
     "name": "stdout",
     "output_type": "stream",
     "text": [
      "KNeighborsRegressor(algorithm='auto', leaf_size=30, metric='minkowski',\n",
      "          metric_params=None, n_jobs=1, n_neighbors=8, p=1,\n",
      "          weights='distance')\n",
      "RMSE:  3.10835477547\n"
     ]
    }
   ],
   "source": [
    "evaluate(X_train_minmax_corr, X_val_minmax_corr, y_train, y_val)"
   ]
  },
  {
   "cell_type": "markdown",
   "metadata": {},
   "source": [
    "A ~3% improvement. I would definitely want to consider other ways of measuring feature importance. The clear gain here shows its value in scaling the data and directly altering each feature's impact on the model."
   ]
  },
  {
   "cell_type": "markdown",
   "metadata": {},
   "source": [
    "# ECDF scaling"
   ]
  },
  {
   "cell_type": "markdown",
   "metadata": {},
   "source": [
    "All of the scaling so far has been linear. Specifically, of the form:\n",
    "$$\n",
    "x \\rightarrow \\frac{x - a}{b}.\n",
    "$$\n",
    "The aim of this kind of scaling was to put the features on the same level. We then applied 'correlation scaling' to increase the influence of the more important features.\n",
    "\n",
    "I am now going to implement an idea I have not seen elsewhere. I was trying to think of other ways of scaling the data to [0,1] when I realised the the CDF (cumulative distribution function) has that kind of property.\n",
    "\n",
    "However, transforming the data using the ECDF (empirical CDF) of each feature changes the distances in another way. Relatively, it spreads data out in the areas of high density and compresses distances in areas of low density. This appeals to me. In the areas of high density it allows us to be more discerning in the selection of our nearest neighbours."
   ]
  },
  {
   "cell_type": "code",
   "execution_count": 134,
   "metadata": {
    "collapsed": false
   },
   "outputs": [],
   "source": [
    "from statsmodels.distributions.empirical_distribution import ECDF\n",
    "\n",
    "X_train_ecdf = X_train.copy()\n",
    "X_val_ecdf = X_val.copy()\n",
    "\n",
    "for col in X_train_ecdf.columns:\n",
    "    ecdf = ECDF(X_train_ecdf[col])\n",
    "    X_train_ecdf[col] = map(ecdf, X_train_ecdf[col])\n",
    "    X_val_ecdf[col] = map(ecdf, X_val_ecdf[col])"
   ]
  },
  {
   "cell_type": "code",
   "execution_count": 135,
   "metadata": {
    "collapsed": false
   },
   "outputs": [
    {
     "name": "stdout",
     "output_type": "stream",
     "text": [
      "KNeighborsRegressor(algorithm='auto', leaf_size=30, metric='minkowski',\n",
      "          metric_params=None, n_jobs=1, n_neighbors=9, p=1,\n",
      "          weights='distance')\n",
      "RMSE:  3.25009398861\n"
     ]
    }
   ],
   "source": [
    "evaluate(X_train_ecdf, X_val_ecdf, y_train, y_val)"
   ]
  },
  {
   "cell_type": "markdown",
   "metadata": {
    "collapsed": false
   },
   "source": [
    "This is a little behind the MinMaxScaler but ahead of the rest of the scaling methods from that section. Now, let's add correlation scaling to the mix as well."
   ]
  },
  {
   "cell_type": "code",
   "execution_count": 156,
   "metadata": {
    "collapsed": false
   },
   "outputs": [
    {
     "name": "stdout",
     "output_type": "stream",
     "text": [
      "AT -0.942322477415\n",
      "V -0.876684209367\n",
      "AP 0.526404574669\n",
      "RH 0.384707913754\n"
     ]
    }
   ],
   "source": [
    "for col in X_train_ecdf.columns:\n",
    "    print col, np.corrcoef(X_train_ecdf[col], y_train)[1, 0]"
   ]
  },
  {
   "cell_type": "code",
   "execution_count": 159,
   "metadata": {
    "collapsed": false
   },
   "outputs": [],
   "source": [
    "X_train_ecdf_corr = X_train_ecdf.copy().values\n",
    "X_train_ecdf_corr[:, 0] = 0.94 * X_train_ecdf_corr[:, 0]\n",
    "X_train_ecdf_corr[:, 1] = 0.88 * X_train_ecdf_corr[:, 1]\n",
    "X_train_ecdf_corr[:, 2] = 0.53 * X_train_ecdf_corr[:, 2]\n",
    "X_train_ecdf_corr[:, 3] = 0.38 * X_train_ecdf_corr[:, 3]\n",
    "\n",
    "X_val_ecdf_corr = X_val_ecdf.copy().values\n",
    "X_val_ecdf_corr[:, 0] = 0.94 * X_val_ecdf_corr[:, 0]\n",
    "X_val_ecdf_corr[:, 1] = 0.88 * X_val_ecdf_corr[:, 1]\n",
    "X_val_ecdf_corr[:, 2] = 0.53 * X_val_ecdf_corr[:, 2]\n",
    "X_val_ecdf_corr[:, 3] = 0.38 * X_val_ecdf_corr[:, 3]"
   ]
  },
  {
   "cell_type": "code",
   "execution_count": 160,
   "metadata": {
    "collapsed": false
   },
   "outputs": [
    {
     "name": "stdout",
     "output_type": "stream",
     "text": [
      "KNeighborsRegressor(algorithm='auto', leaf_size=30, metric='minkowski',\n",
      "          metric_params=None, n_jobs=1, n_neighbors=5, p=1,\n",
      "          weights='distance')\n",
      "RMSE:  2.95549862704\n"
     ]
    }
   ],
   "source": [
    "evaluate(X_train_ecdf_corr, X_val_ecdf_corr, y_train, y_val)"
   ]
  },
  {
   "cell_type": "markdown",
   "metadata": {
    "collapsed": false,
    "scrolled": true
   },
   "source": [
    "One final trick before we move on to a different topic. We can apply a transformation to the values we use to scale. The idea here is that there is nothing special about the correlations - they just show which feature might have more value. By exponentiating the values by a number larger than 1, say 1.25, we are further increasing the influence of the more important features as they as modified less relative to the lower numbers. Of course, we could ameliorate their influence by setting the exponent less than one."
   ]
  },
  {
   "cell_type": "code",
   "execution_count": 173,
   "metadata": {
    "collapsed": false
   },
   "outputs": [],
   "source": [
    "power = 1.25\n",
    "\n",
    "X_train_ecdf_corr = X_train_ecdf.copy().values\n",
    "X_train_ecdf_corr[:, 0] = 0.94**power * X_train_ecdf_corr[:, 0]\n",
    "X_train_ecdf_corr[:, 1] = 0.88**power * X_train_ecdf_corr[:, 1]\n",
    "X_train_ecdf_corr[:, 2] = 0.53**power * X_train_ecdf_corr[:, 2]\n",
    "X_train_ecdf_corr[:, 3] = 0.38**power * X_train_ecdf_corr[:, 3]\n",
    "\n",
    "X_val_ecdf_corr = X_val_ecdf.copy().values\n",
    "X_val_ecdf_corr[:, 0] = 0.94**power * X_val_ecdf_corr[:, 0]\n",
    "X_val_ecdf_corr[:, 1] = 0.88**power * X_val_ecdf_corr[:, 1]\n",
    "X_val_ecdf_corr[:, 2] = 0.53**power * X_val_ecdf_corr[:, 2]\n",
    "X_val_ecdf_corr[:, 3] = 0.38**power * X_val_ecdf_corr[:, 3]"
   ]
  },
  {
   "cell_type": "code",
   "execution_count": 174,
   "metadata": {
    "collapsed": false
   },
   "outputs": [
    {
     "name": "stdout",
     "output_type": "stream",
     "text": [
      "KNeighborsRegressor(algorithm='auto', leaf_size=30, metric='minkowski',\n",
      "          metric_params=None, n_jobs=1, n_neighbors=5, p=1,\n",
      "          weights='distance')\n",
      "RMSE:  2.9201874282\n"
     ]
    }
   ],
   "source": [
    "evaluate(X_train_ecdf_corr, X_val_ecdf_corr, y_train, y_val)"
   ]
  },
  {
   "cell_type": "markdown",
   "metadata": {},
   "source": [
    "We have broken the 3.0 barrier. We have made a large improvement since the beginning of this notebook. Around 22% reduction in error overall. A small amount of data preprocessing and hyperparameter tuning was all it took!\n",
    "\n",
    "WARNING: by trying so many different approaches and testing them against X_test we are in grave danger of overfitting to that particular set. In fact we hace really been using X_test as a validation set or a development set depending on your choice of nomenclature."
   ]
  },
  {
   "cell_type": "markdown",
   "metadata": {},
   "source": [
    "# Feature selection"
   ]
  },
  {
   "cell_type": "markdown",
   "metadata": {},
   "source": [
    "In general, k-nearest neighbours suffers from the 'curse of dimensionality'. In essence, in a high dimensional space, everything is far away from everything so that the nearest neighbours are not really that near. Suppose our data has $d$ features. A rule of thumb is that we would like to have much more than $2^d$ samples. For $d<10$ this is not normally a problem as $2^10 = 1024$. However, by time we get to $d = 20$ we would like to have 'much more' than a million samples.\n",
    "\n",
    "One way to deal with this problem is to eliminate features. In our case we only have four features so this really is not a problem but let's explore anyway.\n",
    "\n",
    "One approach to feature selection is to run models with all possible subsets of the features in play. For a larger number of features this becomes too computationally expensive. In that case forward greedy or backwardgreedy approaches can be used. Alternatively, we can eliminate features based on a measure of feature importance.\n",
    "\n",
    "A bonus of eliminately features in larger datasets is it allows to run many more models and experiment more in the same period of time."
   ]
  },
  {
   "cell_type": "code",
   "execution_count": 140,
   "metadata": {
    "collapsed": false
   },
   "outputs": [
    {
     "name": "stdout",
     "output_type": "stream",
     "text": [
      "(u'AT',) 5.47491089204\n",
      "(u'V',) 5.3403198513\n",
      "(u'AP',) 15.9180599486\n",
      "(u'RH',) 17.690583179\n",
      "(u'AT', u'V') 4.16156782012\n",
      "(u'AT', u'AP') 4.91666165758\n",
      "(u'AT', u'RH') 4.69066814705\n",
      "(u'V', u'AP') 6.28542186776\n",
      "(u'V', u'RH') 7.99589058016\n",
      "(u'AP', u'RH') 13.3687192104\n",
      "(u'AT', u'V', u'AP') 3.50526726656\n",
      "(u'AT', u'V', u'RH') 3.94459496351\n",
      "(u'AT', u'AP', u'RH') 4.48656340961\n",
      "(u'V', u'AP', u'RH') 6.56647390189\n",
      "(u'AT', u'V', u'AP', u'RH') 3.7972230907\n"
     ]
    }
   ],
   "source": [
    "from itertools import combinations\n",
    "\n",
    "for i in range(1, 5):\n",
    "    for el in combinations(X.columns, i):\n",
    "        \n",
    "        X_train_temp = X_train[list(el)]\n",
    "        X_val_temp = X_val[list(el)]\n",
    "        \n",
    "        model = KNR()\n",
    "        model.fit(X_train_temp, y_train)\n",
    "        preds = model.predict(X_val_temp)\n",
    "        error = np.sqrt(mse(y_val, preds))\n",
    "        \n",
    "        \n",
    "        print el, error"
   ]
  },
  {
   "cell_type": "markdown",
   "metadata": {},
   "source": [
    "It turns out that removing 'Relative Humidity' (RH) actually improves the model. In the beginning of the section on scaling we found that RH has the highest standard deviation in the unscaled dataset and therefore was the most controlling feature in the kNN model."
   ]
  },
  {
   "cell_type": "code",
   "execution_count": 141,
   "metadata": {
    "collapsed": false
   },
   "outputs": [],
   "source": [
    "X_train_feat = X_train[['AT', 'V', 'AP']]\n",
    "X_val_feat = X_val[['AT', 'V', 'AP']]"
   ]
  },
  {
   "cell_type": "code",
   "execution_count": 142,
   "metadata": {
    "collapsed": false
   },
   "outputs": [
    {
     "name": "stdout",
     "output_type": "stream",
     "text": [
      "KNeighborsRegressor(algorithm='auto', leaf_size=30, metric='minkowski',\n",
      "          metric_params=None, n_jobs=1, n_neighbors=6, p=1,\n",
      "          weights='distance')\n",
      "RMSE:  3.26525140171\n"
     ]
    }
   ],
   "source": [
    "evaluate(X_train_feat, X_val_feat, y_train, y_val)"
   ]
  },
  {
   "cell_type": "markdown",
   "metadata": {
    "collapsed": false
   },
   "source": [
    "This result can be improved further with scaling, correlation scaling, ecdf scaling etc but I was unable to get close to 3.0. The conclusion is simple: we need RH in the model but with only a little influence."
   ]
  },
  {
   "cell_type": "markdown",
   "metadata": {
    "collapsed": false
   },
   "source": [
    "# Dimensionality reduction"
   ]
  },
  {
   "cell_type": "markdown",
   "metadata": {
    "collapsed": true
   },
   "source": [
    "Rather than removing features, another option is dimensionality reduction. There are several options but the most popular is PCA. As above, we only have four features so no need to do this really, but let's walk through the steps and see what we get."
   ]
  },
  {
   "cell_type": "code",
   "execution_count": 143,
   "metadata": {
    "collapsed": false
   },
   "outputs": [],
   "source": [
    "from sklearn.decomposition import PCA"
   ]
  },
  {
   "cell_type": "code",
   "execution_count": 144,
   "metadata": {
    "collapsed": false
   },
   "outputs": [],
   "source": [
    "pca = PCA(n_components = 3)"
   ]
  },
  {
   "cell_type": "code",
   "execution_count": 145,
   "metadata": {
    "collapsed": false
   },
   "outputs": [],
   "source": [
    "pca.fit(X_train)\n",
    "X_train_pca = pca.transform(X_train)\n",
    "X_val_pca = pca.transform(X_val)"
   ]
  },
  {
   "cell_type": "code",
   "execution_count": 146,
   "metadata": {
    "collapsed": false
   },
   "outputs": [
    {
     "name": "stdout",
     "output_type": "stream",
     "text": [
      "KNeighborsRegressor(algorithm='auto', leaf_size=30, metric='minkowski',\n",
      "          metric_params=None, n_jobs=1, n_neighbors=10, p=2,\n",
      "          weights='distance')\n",
      "RMSE:  4.99110532102\n"
     ]
    }
   ],
   "source": [
    "evaluate(X_train_pca, X_val_pca, y_train, y_val)"
   ]
  },
  {
   "cell_type": "markdown",
   "metadata": {
    "collapsed": false
   },
   "source": [
    "In this case there really is no need to reduce dimensionality. Cutting down to three dimensions loses information and it shows in the error."
   ]
  },
  {
   "cell_type": "markdown",
   "metadata": {
    "collapsed": false
   },
   "source": [
    "# Advanced: learning metrics"
   ]
  },
  {
   "cell_type": "markdown",
   "metadata": {
    "collapsed": false,
    "scrolled": true
   },
   "source": [
    "A lot of the work in the above sections revolved around trying to make sure the the nearest neighbours were actually nearest. We manipulated the distances to emphasize the most important features and suppress the irrelevant (or rather less relevant). \n",
    "\n",
    "An alternative approach is to learn a metric from the data. There are a lot methods for this. A good starting point is: https://all-umass.github.io/metric-learn/. the metric learn packages contains a number of different methods that have roughly the same goal.\n",
    "\n",
    "These techniques are most useful in classification problems. The overall goal is to transform the feature space to move points in the same class together and away from points in other classes.\n",
    "\n",
    "Here I will demonstrate a toy example, so we can really see what happens."
   ]
  },
  {
   "cell_type": "code",
   "execution_count": 147,
   "metadata": {
    "collapsed": false
   },
   "outputs": [],
   "source": [
    "xs = [5, 5.5, 6, 5.4, 5.1, 5.6, 5.7]\n",
    "ys = [5.1, 4.9, 5.2, 4.6, 4.4, 4.5, 4.6]\n",
    "labels = (1, 1, 1, 0,0,0,0)\n",
    "colors = ['blue' if x == 1 else 'orange' for x in labels]"
   ]
  },
  {
   "cell_type": "code",
   "execution_count": 148,
   "metadata": {
    "collapsed": false
   },
   "outputs": [
    {
     "data": {
      "image/png": "[encoded data removed]",
      "text/plain": [
       "<matplotlib.figure.Figure at 0x11bdb1ed0>"
      ]
     },
     "metadata": {},
     "output_type": "display_data"
    }
   ],
   "source": [
    "plt.scatter(xs, ys, color = colors);"
   ]
  },
  {
   "cell_type": "markdown",
   "metadata": {},
   "source": [
    "We have two nicely separably classes, the blue points are actually quite far apart. In particular, the central blue point is much closer to the other class. A LMNN (large margin nearest neighbours) will try to push the separate classes apart. For LMNN the transformation learning is linear (eg a matrix) so nothing too crazy can happen, especially in 2 dimensions."
   ]
  },
  {
   "cell_type": "code",
   "execution_count": 149,
   "metadata": {
    "collapsed": false
   },
   "outputs": [],
   "source": [
    "X = np.array([xs, ys]).T\n",
    "y = labels"
   ]
  },
  {
   "cell_type": "code",
   "execution_count": 150,
   "metadata": {
    "collapsed": true
   },
   "outputs": [],
   "source": [
    "from metric_learn.lmnn import LMNN"
   ]
  },
  {
   "cell_type": "code",
   "execution_count": 151,
   "metadata": {
    "collapsed": false
   },
   "outputs": [],
   "source": [
    "lmnn = LMNN(k = 2, learn_rate = 1e-3, min_iter = 500, max_iter = 1000, verbose = False, regularization = 0)"
   ]
  },
  {
   "cell_type": "code",
   "execution_count": 152,
   "metadata": {
    "collapsed": false
   },
   "outputs": [],
   "source": [
    "lmnn.fit(X, y);"
   ]
  },
  {
   "cell_type": "code",
   "execution_count": 153,
   "metadata": {
    "collapsed": false
   },
   "outputs": [],
   "source": [
    "X_lmnn = lmnn.transform(X)"
   ]
  },
  {
   "cell_type": "code",
   "execution_count": 154,
   "metadata": {
    "collapsed": false,
    "scrolled": true
   },
   "outputs": [
    {
     "data": {
      "image/png": "[encoded data removed]",
      "text/plain": [
       "<matplotlib.figure.Figure at 0x11b325690>"
      ]
     },
     "metadata": {},
     "output_type": "display_data"
    }
   ],
   "source": [
    "plt.scatter(X_lmnn[:, 0], X_lmnn[:, 1], color = colors);"
   ]
  },
  {
   "cell_type": "markdown",
   "metadata": {
    "collapsed": true
   },
   "source": [
    "Looking at the original plot it seems like the x direction is not important. It should not be a surprise to see that the LMNN has almost transformed the data on to a 1-dimensional subspace. While not entirely clear, the middle blue dot is now relatively closer to the other blue points than before the transformation"
   ]
  },
  {
   "cell_type": "markdown",
   "metadata": {
    "collapsed": false,
    "scrolled": true
   },
   "source": [
    "# Summary"
   ]
  },
  {
   "cell_type": "markdown",
   "metadata": {
    "collapsed": false
   },
   "source": [
    "k-nearest neighbours is a great alorithm; it is simple and, often effective. However, it is non-trivial to get the best results from the algorithm. Care must be taken to transform the underlying data or to pick a distance so that the algorithm really finds the k most similar points."
   ]
  }
 ],
 "metadata": {
  "anaconda-cloud": {},
  "kernelspec": {
   "display_name": "Python [Root]",
   "language": "python",
   "name": "Python [Root]"
  },
  "language_info": {
   "codemirror_mode": {
    "name": "ipython",
    "version": 2
   },
   "file_extension": ".py",
   "mimetype": "text/x-python",
   "name": "python",
   "nbconvert_exporter": "python",
   "pygments_lexer": "ipython2",
   "version": "2.7.12"
  }
 },
 "nbformat": 4,
 "nbformat_minor": 0
}
